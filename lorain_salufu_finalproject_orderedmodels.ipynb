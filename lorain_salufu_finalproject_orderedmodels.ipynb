{
 "cells": [
  {
   "cell_type": "code",
   "execution_count": 78,
   "metadata": {
    "id": "O8--JydKrkEx"
   },
   "outputs": [],
   "source": [
    "import pandas as pd\n",
    "import matplotlib.pyplot as plt\n",
    "import numpy as np\n",
    "import seaborn as sns\n",
    "import scipy.stats as stats"
   ]
  },
  {
   "cell_type": "markdown",
   "metadata": {
    "id": "zeGzO5gsr0mC"
   },
   "source": [
    "DATA LOADING"
   ]
  },
  {
   "cell_type": "code",
   "execution_count": 81,
   "metadata": {
    "colab": {
     "base_uri": "https://localhost:8080/",
     "height": 655
    },
    "id": "_rVyNL2prsJa",
    "outputId": "c957a041-dbce-49fc-a9ae-0b961a54dbf9"
   },
   "outputs": [
    {
     "data": {
      "text/html": [
       "<div>\n",
       "<style scoped>\n",
       "    .dataframe tbody tr th:only-of-type {\n",
       "        vertical-align: middle;\n",
       "    }\n",
       "\n",
       "    .dataframe tbody tr th {\n",
       "        vertical-align: top;\n",
       "    }\n",
       "\n",
       "    .dataframe thead th {\n",
       "        text-align: right;\n",
       "    }\n",
       "</style>\n",
       "<table border=\"1\" class=\"dataframe\">\n",
       "  <thead>\n",
       "    <tr style=\"text-align: right;\">\n",
       "      <th></th>\n",
       "      <th>Crash Number</th>\n",
       "      <th>Day of the Week</th>\n",
       "      <th>Day</th>\n",
       "      <th>Time of Day</th>\n",
       "      <th>Time</th>\n",
       "      <th>Place</th>\n",
       "      <th>Controlled Access</th>\n",
       "      <th>Access</th>\n",
       "      <th>Manner of Crash</th>\n",
       "      <th>Crash Manner</th>\n",
       "      <th>...</th>\n",
       "      <th>Lighting Conditions</th>\n",
       "      <th>Light Conditions</th>\n",
       "      <th>Weather</th>\n",
       "      <th>Weather C</th>\n",
       "      <th>CU Roadway Condition</th>\n",
       "      <th>Roadway Condition</th>\n",
       "      <th>CU Roadway Curvature and Grade</th>\n",
       "      <th>Roadway Curvature</th>\n",
       "      <th>Latitude</th>\n",
       "      <th>Longitude</th>\n",
       "    </tr>\n",
       "  </thead>\n",
       "  <tbody>\n",
       "    <tr>\n",
       "      <th>0</th>\n",
       "      <td>600073</td>\n",
       "      <td>Wednesday</td>\n",
       "      <td>Weekday</td>\n",
       "      <td>3:00 PM to 3:59 PM</td>\n",
       "      <td>Off-Peak Hour</td>\n",
       "      <td>Rural</td>\n",
       "      <td>Not a Controlled Access</td>\n",
       "      <td>Not Controlled</td>\n",
       "      <td>Single Vehicle Crash (all types)</td>\n",
       "      <td>Single Vehicle Crash</td>\n",
       "      <td>...</td>\n",
       "      <td>Daylight</td>\n",
       "      <td>Daylight</td>\n",
       "      <td>Cloudy</td>\n",
       "      <td>Foggy</td>\n",
       "      <td>Dry</td>\n",
       "      <td>Dry</td>\n",
       "      <td>Straight with Down Grade</td>\n",
       "      <td>Straight</td>\n",
       "      <td>33.657067</td>\n",
       "      <td>-86.268114</td>\n",
       "    </tr>\n",
       "    <tr>\n",
       "      <th>1</th>\n",
       "      <td>600101</td>\n",
       "      <td>Wednesday</td>\n",
       "      <td>Weekday</td>\n",
       "      <td>3:00 PM to 3:59 PM</td>\n",
       "      <td>Off-Peak Hour</td>\n",
       "      <td>Urban</td>\n",
       "      <td>Not a Controlled Access</td>\n",
       "      <td>Not Controlled</td>\n",
       "      <td>Rear End (front to rear)</td>\n",
       "      <td>Rear-End</td>\n",
       "      <td>...</td>\n",
       "      <td>Daylight</td>\n",
       "      <td>Daylight</td>\n",
       "      <td>Clear</td>\n",
       "      <td>Clear</td>\n",
       "      <td>Dry</td>\n",
       "      <td>Dry</td>\n",
       "      <td>Straight and Level</td>\n",
       "      <td>Straight</td>\n",
       "      <td>33.453778</td>\n",
       "      <td>-87.012370</td>\n",
       "    </tr>\n",
       "    <tr>\n",
       "      <th>2</th>\n",
       "      <td>601177</td>\n",
       "      <td>Saturday</td>\n",
       "      <td>Weekend</td>\n",
       "      <td>3:00 PM to 3:59 PM</td>\n",
       "      <td>Off-Peak Hour</td>\n",
       "      <td>Rural</td>\n",
       "      <td>Not a Controlled Access</td>\n",
       "      <td>Not Controlled</td>\n",
       "      <td>Single Vehicle Crash (all types)</td>\n",
       "      <td>Single Vehicle Crash</td>\n",
       "      <td>...</td>\n",
       "      <td>Daylight</td>\n",
       "      <td>Daylight</td>\n",
       "      <td>Clear</td>\n",
       "      <td>Clear</td>\n",
       "      <td>Dry</td>\n",
       "      <td>Dry</td>\n",
       "      <td>Curve Left and Down Grade</td>\n",
       "      <td>Curve</td>\n",
       "      <td>30.742780</td>\n",
       "      <td>-87.889280</td>\n",
       "    </tr>\n",
       "    <tr>\n",
       "      <th>3</th>\n",
       "      <td>601310</td>\n",
       "      <td>Saturday</td>\n",
       "      <td>Weekend</td>\n",
       "      <td>6:00 PM to 6:59 PM</td>\n",
       "      <td>Off-Peak Hour</td>\n",
       "      <td>Urban</td>\n",
       "      <td>Not a Controlled Access</td>\n",
       "      <td>Not Controlled</td>\n",
       "      <td>Angle (front to side) Opposite Direction</td>\n",
       "      <td>Angular</td>\n",
       "      <td>...</td>\n",
       "      <td>Dusk</td>\n",
       "      <td>Dark</td>\n",
       "      <td>Cloudy</td>\n",
       "      <td>Foggy</td>\n",
       "      <td>CU is Unknown</td>\n",
       "      <td>Dry</td>\n",
       "      <td>CU is Unknown</td>\n",
       "      <td>Curve</td>\n",
       "      <td>30.628985</td>\n",
       "      <td>-88.088910</td>\n",
       "    </tr>\n",
       "    <tr>\n",
       "      <th>4</th>\n",
       "      <td>601108</td>\n",
       "      <td>Saturday</td>\n",
       "      <td>Weekend</td>\n",
       "      <td>11:00 AM to 11:59 AM</td>\n",
       "      <td>Off-Peak Hour</td>\n",
       "      <td>Rural</td>\n",
       "      <td>Not a Controlled Access</td>\n",
       "      <td>Not Controlled</td>\n",
       "      <td>Single Vehicle Crash (all types)</td>\n",
       "      <td>Single Vehicle Crash</td>\n",
       "      <td>...</td>\n",
       "      <td>Daylight</td>\n",
       "      <td>Daylight</td>\n",
       "      <td>Clear</td>\n",
       "      <td>Clear</td>\n",
       "      <td>Dry</td>\n",
       "      <td>Dry</td>\n",
       "      <td>Curve Left and Level</td>\n",
       "      <td>Curve</td>\n",
       "      <td>34.057063</td>\n",
       "      <td>-86.860597</td>\n",
       "    </tr>\n",
       "  </tbody>\n",
       "</table>\n",
       "<p>5 rows × 26 columns</p>\n",
       "</div>"
      ],
      "text/plain": [
       "   Crash Number Day of the Week     Day            Time of Day          Time   \\\n",
       "0        600073       Wednesday  Weekday    3:00 PM to 3:59 PM  Off-Peak Hour   \n",
       "1        600101       Wednesday  Weekday    3:00 PM to 3:59 PM  Off-Peak Hour   \n",
       "2        601177        Saturday  Weekend    3:00 PM to 3:59 PM  Off-Peak Hour   \n",
       "3        601310        Saturday  Weekend    6:00 PM to 6:59 PM  Off-Peak Hour   \n",
       "4        601108        Saturday  Weekend  11:00 AM to 11:59 AM  Off-Peak Hour   \n",
       "\n",
       "   Place        Controlled Access         Access   \\\n",
       "0  Rural  Not a Controlled Access  Not Controlled   \n",
       "1  Urban  Not a Controlled Access  Not Controlled   \n",
       "2  Rural  Not a Controlled Access  Not Controlled   \n",
       "3  Urban  Not a Controlled Access  Not Controlled   \n",
       "4  Rural  Not a Controlled Access  Not Controlled   \n",
       "\n",
       "                            Manner of Crash          Crash Manner  ...  \\\n",
       "0          Single Vehicle Crash (all types)  Single Vehicle Crash  ...   \n",
       "1                  Rear End (front to rear)              Rear-End  ...   \n",
       "2          Single Vehicle Crash (all types)  Single Vehicle Crash  ...   \n",
       "3  Angle (front to side) Opposite Direction               Angular  ...   \n",
       "4          Single Vehicle Crash (all types)  Single Vehicle Crash  ...   \n",
       "\n",
       "  Lighting Conditions Light Conditions  Weather Weather C  \\\n",
       "0            Daylight          Daylight  Cloudy     Foggy   \n",
       "1            Daylight          Daylight   Clear     Clear   \n",
       "2            Daylight          Daylight   Clear     Clear   \n",
       "3                Dusk              Dark  Cloudy     Foggy   \n",
       "4            Daylight          Daylight   Clear     Clear   \n",
       "\n",
       "  CU Roadway Condition Roadway Condition CU Roadway Curvature and Grade  \\\n",
       "0                  Dry               Dry       Straight with Down Grade   \n",
       "1                  Dry               Dry             Straight and Level   \n",
       "2                  Dry               Dry      Curve Left and Down Grade   \n",
       "3        CU is Unknown               Dry                  CU is Unknown   \n",
       "4                  Dry               Dry           Curve Left and Level   \n",
       "\n",
       "  Roadway Curvature   Latitude  Longitude  \n",
       "0          Straight  33.657067 -86.268114  \n",
       "1          Straight  33.453778 -87.012370  \n",
       "2             Curve  30.742780 -87.889280  \n",
       "3             Curve  30.628985 -88.088910  \n",
       "4             Curve  34.057063 -86.860597  \n",
       "\n",
       "[5 rows x 26 columns]"
      ]
     },
     "execution_count": 81,
     "metadata": {},
     "output_type": "execute_result"
    }
   ],
   "source": [
    "data = pd.read_csv('MC CRASHES DATA FINAL AL 2.csv')\n",
    "data.head()"
   ]
  },
  {
   "cell_type": "code",
   "execution_count": 83,
   "metadata": {
    "id": "JkRFyR6Dr4BK"
   },
   "outputs": [],
   "source": [
    "x = data[['Day ', 'Time ', 'Place', 'Access ', 'Crash Manner', 'Intersection Relationship', 'Intersection Location', 'Functional Class', 'Light Conditions ', 'Weather C', 'Roadway Condition', 'Roadway Curvature', 'Latitude', 'Longitude']]"
   ]
  },
  {
   "cell_type": "code",
   "execution_count": 85,
   "metadata": {
    "id": "0vwT9uuWr72J"
   },
   "outputs": [],
   "source": [
    "y = data['Crash Severity']"
   ]
  },
  {
   "cell_type": "code",
   "execution_count": 87,
   "metadata": {
    "colab": {
     "base_uri": "https://localhost:8080/",
     "height": 272
    },
    "id": "IIC-absssAG5",
    "outputId": "3cc46b3b-1827-4002-d5d7-1c2d8dda486b"
   },
   "outputs": [
    {
     "data": {
      "text/plain": [
       "Crash Severity\n",
       "Non-Incapacitating Injury    2100\n",
       "Property Damage Only         1964\n",
       "Suspected Serious Injury     1885\n",
       "Possible Injury               779\n",
       "Fatal Injury                  417\n",
       "Name: count, dtype: int64"
      ]
     },
     "execution_count": 87,
     "metadata": {},
     "output_type": "execute_result"
    }
   ],
   "source": [
    "#Descriptive Statistics\n",
    "data.describe()\n",
    "data['Crash Severity'].value_counts()  # Frequency of different crash severities"
   ]
  },
  {
   "cell_type": "code",
   "execution_count": 89,
   "metadata": {
    "colab": {
     "base_uri": "https://localhost:8080/",
     "height": 487
    },
    "id": "a_c3quFIsB-B",
    "outputId": "b87983fb-06e9-451a-a00b-09006de8a704"
   },
   "outputs": [
    {
     "data": {
      "image/png": "[encoded data removed]",
      "text/plain": [
       "<Figure size 640x480 with 1 Axes>"
      ]
     },
     "metadata": {},
     "output_type": "display_data"
    }
   ],
   "source": [
    "#Data Visualization\n",
    "severity_order = ['Property Damage Only', 'Possible Injury', 'Non-Incapacitating Injury', 'Suspected Serious Injury', 'Fatal Injury']\n",
    "sns.countplot(x='Crash Severity', data=data, order=severity_order)\n",
    "plt.xticks(rotation=45, ha='right') # rotate x-axis labels\n",
    "plt.tight_layout()# Adjust subplot parameters for a tight layout.\n",
    "plt.show()"
   ]
  },
  {
   "cell_type": "code",
   "execution_count": 91,
   "metadata": {
    "id": "sFyIf0n1sHep"
   },
   "outputs": [],
   "source": [
    "severity_order = ['Property Damage Only', 'Possible Injury', 'Non-Incapacitating Injury', 'Suspected Serious Injury', 'Fatal Injury']\n",
    "data['Crash Severity'] = pd.Categorical(data['Crash Severity'], categories=severity_order, ordered=True)\n"
   ]
  },
  {
   "cell_type": "code",
   "execution_count": 93,
   "metadata": {
    "colab": {
     "base_uri": "https://localhost:8080/",
     "height": 807
    },
    "id": "e9ejYqHosJ4J",
    "outputId": "18595e98-b1e6-48cb-920a-bff037beb4d8"
   },
   "outputs": [
    {
     "data": {
      "image/png": "[encoded data removed]",
      "text/plain": [
       "<Figure size 1000x800 with 1 Axes>"
      ]
     },
     "metadata": {},
     "output_type": "display_data"
    }
   ],
   "source": [
    "plt.figure(figsize=(10,8))\n",
    "sns.histplot(x='Crash Severity', data=data, kde=True)\n",
    "plt.title('Crash Severity Distribution')\n",
    "plt.xlabel('Crash Severity')\n",
    "plt.ylabel('Frequency')\n",
    "\n",
    "plt.xticks(severity_order, rotation=45, ha='right')\n",
    "plt.tight_layout()\n",
    "plt.show()"
   ]
  },
  {
   "cell_type": "markdown",
   "metadata": {},
   "source": [
    "DESCRIPTIVE STATISTICS"
   ]
  },
  {
   "cell_type": "code",
   "execution_count": 96,
   "metadata": {},
   "outputs": [
    {
     "data": {
      "text/plain": [
       "Day \n",
       "Weekday    4460\n",
       "Weekend    2685\n",
       "Name: count, dtype: int64"
      ]
     },
     "execution_count": 96,
     "metadata": {},
     "output_type": "execute_result"
    }
   ],
   "source": [
    "data.describe()\n",
    "data['Day '].value_counts() "
   ]
  },
  {
   "cell_type": "code",
   "execution_count": 98,
   "metadata": {},
   "outputs": [
    {
     "data": {
      "text/plain": [
       "Time \n",
       "Off-Peak Hour    4367\n",
       "Peak Hour        2778\n",
       "Name: count, dtype: int64"
      ]
     },
     "execution_count": 98,
     "metadata": {},
     "output_type": "execute_result"
    }
   ],
   "source": [
    "data.describe()\n",
    "data['Time '].value_counts() \n"
   ]
  },
  {
   "cell_type": "code",
   "execution_count": 100,
   "metadata": {},
   "outputs": [
    {
     "data": {
      "text/plain": [
       "Place\n",
       "Urban    4338\n",
       "Rural    2807\n",
       "Name: count, dtype: int64"
      ]
     },
     "execution_count": 100,
     "metadata": {},
     "output_type": "execute_result"
    }
   ],
   "source": [
    "data.describe()\n",
    "data['Place'].value_counts() "
   ]
  },
  {
   "cell_type": "code",
   "execution_count": 102,
   "metadata": {},
   "outputs": [
    {
     "data": {
      "text/plain": [
       "Access \n",
       "Not Controlled    5870\n",
       " Controlled       1275\n",
       "Name: count, dtype: int64"
      ]
     },
     "execution_count": 102,
     "metadata": {},
     "output_type": "execute_result"
    }
   ],
   "source": [
    "data.describe()\n",
    "data['Access '].value_counts() "
   ]
  },
  {
   "cell_type": "code",
   "execution_count": 104,
   "metadata": {},
   "outputs": [
    {
     "data": {
      "text/plain": [
       "Crash Manner\n",
       "Single Vehicle Crash    2832\n",
       "Rear-End                1324\n",
       "Sides                   1302\n",
       "Angular                 1158\n",
       "Other                    196\n",
       "Head-On                  178\n",
       "Non-Collision            155\n",
       "Name: count, dtype: int64"
      ]
     },
     "execution_count": 104,
     "metadata": {},
     "output_type": "execute_result"
    }
   ],
   "source": [
    "data.describe()\n",
    "data['Crash Manner'].value_counts() "
   ]
  },
  {
   "cell_type": "code",
   "execution_count": 106,
   "metadata": {},
   "outputs": [
    {
     "data": {
      "text/plain": [
       "Intersection Relationship\n",
       "Not Intersection Related    5347\n",
       "Intersection Related        1798\n",
       "Name: count, dtype: int64"
      ]
     },
     "execution_count": 106,
     "metadata": {},
     "output_type": "execute_result"
    }
   ],
   "source": [
    "data.describe()\n",
    "data['Intersection Relationship'].value_counts() "
   ]
  },
  {
   "cell_type": "code",
   "execution_count": 108,
   "metadata": {},
   "outputs": [
    {
     "data": {
      "text/plain": [
       "Intersection Location\n",
       "At an Intersection        3662\n",
       "Not at an Intersection    3483\n",
       "Name: count, dtype: int64"
      ]
     },
     "execution_count": 108,
     "metadata": {},
     "output_type": "execute_result"
    }
   ],
   "source": [
    "data.describe()\n",
    "data['Intersection Location'].value_counts() "
   ]
  },
  {
   "cell_type": "code",
   "execution_count": 110,
   "metadata": {},
   "outputs": [
    {
     "data": {
      "text/plain": [
       "Functional Class\n",
       "Principal Arterial - Other                            1871\n",
       "Minor Arterial                                        1598\n",
       "Major Collector                                       1403\n",
       "Local                                                 1324\n",
       "Interstate                                             554\n",
       "Null value                                             177\n",
       "Minor Collector                                        172\n",
       "Principal Arterial - Other Freeways or Expressways      46\n",
       "Name: count, dtype: int64"
      ]
     },
     "execution_count": 110,
     "metadata": {},
     "output_type": "execute_result"
    }
   ],
   "source": [
    "data.describe()\n",
    "data['Functional Class'].value_counts() "
   ]
  },
  {
   "cell_type": "code",
   "execution_count": 150,
   "metadata": {},
   "outputs": [
    {
     "name": "stdout",
     "output_type": "stream",
     "text": [
      "Functional Class\n",
      "Minor Arterial     1598\n",
      "Major Collector    1403\n",
      "Local              1324\n",
      "Interstate          554\n",
      "Minor Collector     172\n",
      "Name: count, dtype: int64\n"
     ]
    }
   ],
   "source": [
    "# Define the desired categories\n",
    "desired_categories = ['Interstate', 'Principal Arterial', 'Minor Arterial', 'Major Collector', 'Minor Collector', 'Local']\n",
    "\n",
    "# Create a mapping dictionary to combine 'Principal Arterial' categories\n",
    "category_mapping = {\n",
    "    'Principal Arterial - Other': 'Principal Arterial',\n",
    "    'Principal Arterial - Other Freeways or Expressways': 'Principal Arterial'\n",
    "}\n",
    "\n",
    "# Apply the mapping to the 'Functional Class' column\n",
    "data['Functional Class'] = data['Functional Class'].replace(category_mapping)\n",
    "\n",
    "# Replace 'Null value' with 'Local'\n",
    "data['Functional Class'] = data['Functional Class'].replace('Null value', 'Local')\n",
    "\n",
    "# Filter for desired categories (including the combined 'Principal Arterial')\n",
    "data = data[data['Functional Class'].isin(desired_categories)]\n",
    "\n",
    "# Check the updated frequency\n",
    "print(data['Functional Class'].value_counts())"
   ]
  },
  {
   "cell_type": "code",
   "execution_count": 138,
   "metadata": {},
   "outputs": [
    {
     "name": "stdout",
     "output_type": "stream",
     "text": [
      "['Local' 'Minor Arterial' 'Major Collector' 'Interstate' 'Minor Collector']\n"
     ]
    }
   ],
   "source": [
    "print(data['Functional Class'].unique())"
   ]
  },
  {
   "cell_type": "code",
   "execution_count": 112,
   "metadata": {},
   "outputs": [
    {
     "data": {
      "text/plain": [
       "Light Conditions \n",
       "Daylight    4935\n",
       "Dark        2210\n",
       "Name: count, dtype: int64"
      ]
     },
     "execution_count": 112,
     "metadata": {},
     "output_type": "execute_result"
    }
   ],
   "source": [
    "data.describe()\n",
    "data['Light Conditions '].value_counts() "
   ]
  },
  {
   "cell_type": "code",
   "execution_count": 114,
   "metadata": {},
   "outputs": [
    {
     "data": {
      "text/plain": [
       "Weather C\n",
       "Clear             5808\n",
       "Foggy             1114\n",
       "Precipitation      210\n",
       "Unknown/Other        8\n",
       "Severe Weather       5\n",
       "Name: count, dtype: int64"
      ]
     },
     "execution_count": 114,
     "metadata": {},
     "output_type": "execute_result"
    }
   ],
   "source": [
    "data.describe()\n",
    "data['Weather C'].value_counts() "
   ]
  },
  {
   "cell_type": "code",
   "execution_count": 116,
   "metadata": {},
   "outputs": [
    {
     "name": "stdout",
     "output_type": "stream",
     "text": [
      "Weather C\n",
      "Clear             5816\n",
      "Foggy             1114\n",
      "Precipitation      210\n",
      "Severe Weather       5\n",
      "Name: count, dtype: int64\n"
     ]
    }
   ],
   "source": [
    "desired_categories = ['Clear', 'Foggy', 'Precipitation', 'Severe Weather']\n",
    "\n",
    "category_mapping = {\n",
    "    'Clear': 'Clearl',\n",
    "    'Foggy': 'Foggy',  \n",
    "    'Precipitation': 'Precipitation',\n",
    "    'Severe Weather': 'Severe Weather'\n",
    "}\n",
    "\n",
    "data['Weather C'] = data['Weather C'].replace('Unknown/Other', 'Clear') \n",
    "\n",
    "data = data[data['Weather C'].isin(desired_categories)] # Filter for desired categories\n",
    "\n",
    "# Check the updated frequency\n",
    "print(data['Weather C'].value_counts())"
   ]
  },
  {
   "cell_type": "code",
   "execution_count": 118,
   "metadata": {},
   "outputs": [
    {
     "data": {
      "text/plain": [
       "Roadway Condition\n",
       "Dry    6738\n",
       "Wet     407\n",
       "Name: count, dtype: int64"
      ]
     },
     "execution_count": 118,
     "metadata": {},
     "output_type": "execute_result"
    }
   ],
   "source": [
    "data.describe()\n",
    "data['Roadway Condition'].value_counts()"
   ]
  },
  {
   "cell_type": "code",
   "execution_count": 120,
   "metadata": {},
   "outputs": [
    {
     "data": {
      "text/plain": [
       "Roadway Curvature\n",
       "Straight    5358\n",
       "Curve       1787\n",
       "Name: count, dtype: int64"
      ]
     },
     "execution_count": 120,
     "metadata": {},
     "output_type": "execute_result"
    }
   ],
   "source": [
    "data.describe()\n",
    "data['Roadway Curvature'].value_counts()"
   ]
  },
  {
   "cell_type": "code",
   "execution_count": 21,
   "metadata": {
    "id": "ZWAnEFO_sOup"
   },
   "outputs": [],
   "source": [
    "xy_data = pd.concat([x, y], axis=1)"
   ]
  },
  {
   "cell_type": "code",
   "execution_count": 23,
   "metadata": {
    "colab": {
     "base_uri": "https://localhost:8080/",
     "height": 362
    },
    "id": "MM3K0psesSTo",
    "outputId": "ef7aca59-26a4-4e26-a502-4d98a76a519c"
   },
   "outputs": [
    {
     "data": {
      "text/html": [
       "<div>\n",
       "<style scoped>\n",
       "    .dataframe tbody tr th:only-of-type {\n",
       "        vertical-align: middle;\n",
       "    }\n",
       "\n",
       "    .dataframe tbody tr th {\n",
       "        vertical-align: top;\n",
       "    }\n",
       "\n",
       "    .dataframe thead th {\n",
       "        text-align: right;\n",
       "    }\n",
       "</style>\n",
       "<table border=\"1\" class=\"dataframe\">\n",
       "  <thead>\n",
       "    <tr style=\"text-align: right;\">\n",
       "      <th></th>\n",
       "      <th>Day</th>\n",
       "      <th>Time</th>\n",
       "      <th>Place</th>\n",
       "      <th>Access</th>\n",
       "      <th>Crash Manner</th>\n",
       "      <th>Intersection Relationship</th>\n",
       "      <th>Intersection Location</th>\n",
       "      <th>Functional Class</th>\n",
       "      <th>Light Conditions</th>\n",
       "      <th>Weather C</th>\n",
       "      <th>Roadway Condition</th>\n",
       "      <th>Roadway Curvature</th>\n",
       "      <th>Latitude</th>\n",
       "      <th>Longitude</th>\n",
       "      <th>Crash Severity</th>\n",
       "    </tr>\n",
       "  </thead>\n",
       "  <tbody>\n",
       "    <tr>\n",
       "      <th>0</th>\n",
       "      <td>Weekday</td>\n",
       "      <td>Off-Peak Hour</td>\n",
       "      <td>Rural</td>\n",
       "      <td>Not Controlled</td>\n",
       "      <td>Single Vehicle Crash</td>\n",
       "      <td>Intersection Related</td>\n",
       "      <td>At an Intersection</td>\n",
       "      <td>Local</td>\n",
       "      <td>Daylight</td>\n",
       "      <td>Foggy</td>\n",
       "      <td>Dry</td>\n",
       "      <td>Straight</td>\n",
       "      <td>33.657067</td>\n",
       "      <td>-86.268114</td>\n",
       "      <td>Possible Injury</td>\n",
       "    </tr>\n",
       "    <tr>\n",
       "      <th>1</th>\n",
       "      <td>Weekday</td>\n",
       "      <td>Off-Peak Hour</td>\n",
       "      <td>Urban</td>\n",
       "      <td>Not Controlled</td>\n",
       "      <td>Rear-End</td>\n",
       "      <td>Not Intersection Related</td>\n",
       "      <td>Not at an Intersection</td>\n",
       "      <td>Minor Arterial</td>\n",
       "      <td>Daylight</td>\n",
       "      <td>Clear</td>\n",
       "      <td>Dry</td>\n",
       "      <td>Straight</td>\n",
       "      <td>33.453778</td>\n",
       "      <td>-87.012370</td>\n",
       "      <td>Property Damage Only</td>\n",
       "    </tr>\n",
       "    <tr>\n",
       "      <th>2</th>\n",
       "      <td>Weekend</td>\n",
       "      <td>Off-Peak Hour</td>\n",
       "      <td>Rural</td>\n",
       "      <td>Not Controlled</td>\n",
       "      <td>Single Vehicle Crash</td>\n",
       "      <td>Not Intersection Related</td>\n",
       "      <td>Not at an Intersection</td>\n",
       "      <td>Major Collector</td>\n",
       "      <td>Daylight</td>\n",
       "      <td>Clear</td>\n",
       "      <td>Dry</td>\n",
       "      <td>Curve</td>\n",
       "      <td>30.742780</td>\n",
       "      <td>-87.889280</td>\n",
       "      <td>Property Damage Only</td>\n",
       "    </tr>\n",
       "    <tr>\n",
       "      <th>3</th>\n",
       "      <td>Weekend</td>\n",
       "      <td>Off-Peak Hour</td>\n",
       "      <td>Urban</td>\n",
       "      <td>Not Controlled</td>\n",
       "      <td>Angular</td>\n",
       "      <td>Intersection Related</td>\n",
       "      <td>At an Intersection</td>\n",
       "      <td>Principal Arterial - Other</td>\n",
       "      <td>Dark</td>\n",
       "      <td>Foggy</td>\n",
       "      <td>Dry</td>\n",
       "      <td>Curve</td>\n",
       "      <td>30.628985</td>\n",
       "      <td>-88.088910</td>\n",
       "      <td>Suspected Serious Injury</td>\n",
       "    </tr>\n",
       "    <tr>\n",
       "      <th>4</th>\n",
       "      <td>Weekend</td>\n",
       "      <td>Off-Peak Hour</td>\n",
       "      <td>Rural</td>\n",
       "      <td>Not Controlled</td>\n",
       "      <td>Single Vehicle Crash</td>\n",
       "      <td>Not Intersection Related</td>\n",
       "      <td>Not at an Intersection</td>\n",
       "      <td>Major Collector</td>\n",
       "      <td>Daylight</td>\n",
       "      <td>Clear</td>\n",
       "      <td>Dry</td>\n",
       "      <td>Curve</td>\n",
       "      <td>34.057063</td>\n",
       "      <td>-86.860597</td>\n",
       "      <td>Non-Incapacitating Injury</td>\n",
       "    </tr>\n",
       "  </tbody>\n",
       "</table>\n",
       "</div>"
      ],
      "text/plain": [
       "      Day           Time   Place         Access           Crash Manner  \\\n",
       "0  Weekday  Off-Peak Hour  Rural  Not Controlled  Single Vehicle Crash   \n",
       "1  Weekday  Off-Peak Hour  Urban  Not Controlled              Rear-End   \n",
       "2  Weekend  Off-Peak Hour  Rural  Not Controlled  Single Vehicle Crash   \n",
       "3  Weekend  Off-Peak Hour  Urban  Not Controlled               Angular   \n",
       "4  Weekend  Off-Peak Hour  Rural  Not Controlled  Single Vehicle Crash   \n",
       "\n",
       "  Intersection Relationship   Intersection Location  \\\n",
       "0      Intersection Related      At an Intersection   \n",
       "1  Not Intersection Related  Not at an Intersection   \n",
       "2  Not Intersection Related  Not at an Intersection   \n",
       "3      Intersection Related      At an Intersection   \n",
       "4  Not Intersection Related  Not at an Intersection   \n",
       "\n",
       "             Functional Class Light Conditions  Weather C Roadway Condition  \\\n",
       "0                       Local          Daylight     Foggy               Dry   \n",
       "1              Minor Arterial          Daylight     Clear               Dry   \n",
       "2             Major Collector          Daylight     Clear               Dry   \n",
       "3  Principal Arterial - Other              Dark     Foggy               Dry   \n",
       "4             Major Collector          Daylight     Clear               Dry   \n",
       "\n",
       "  Roadway Curvature   Latitude  Longitude             Crash Severity  \n",
       "0          Straight  33.657067 -86.268114            Possible Injury  \n",
       "1          Straight  33.453778 -87.012370       Property Damage Only  \n",
       "2             Curve  30.742780 -87.889280       Property Damage Only  \n",
       "3             Curve  30.628985 -88.088910   Suspected Serious Injury  \n",
       "4             Curve  34.057063 -86.860597  Non-Incapacitating Injury  "
      ]
     },
     "execution_count": 23,
     "metadata": {},
     "output_type": "execute_result"
    }
   ],
   "source": [
    "xy_data.head()"
   ]
  },
  {
   "cell_type": "markdown",
   "metadata": {
    "id": "37-HZw4jsbPQ"
   },
   "source": [
    "THE MODEL"
   ]
  },
  {
   "cell_type": "code",
   "execution_count": null,
   "metadata": {
    "colab": {
     "base_uri": "https://localhost:8080/"
    },
    "id": "pYMQwBCxsVZh",
    "outputId": "a919f3a0-0c92-48b3-d4fd-1d45da45b867"
   },
   "outputs": [
    {
     "name": "stdout",
     "output_type": "stream",
     "text": [
      "Requirement already satisfied: statsmodels in /usr/local/lib/python3.11/dist-packages (0.14.4)\n",
      "Requirement already satisfied: numpy<3,>=1.22.3 in /usr/local/lib/python3.11/dist-packages (from statsmodels) (2.0.2)\n",
      "Requirement already satisfied: scipy!=1.9.2,>=1.8 in /usr/local/lib/python3.11/dist-packages (from statsmodels) (1.14.1)\n",
      "Requirement already satisfied: pandas!=2.1.0,>=1.4 in /usr/local/lib/python3.11/dist-packages (from statsmodels) (2.2.2)\n",
      "Requirement already satisfied: patsy>=0.5.6 in /usr/local/lib/python3.11/dist-packages (from statsmodels) (1.0.1)\n",
      "Requirement already satisfied: packaging>=21.3 in /usr/local/lib/python3.11/dist-packages (from statsmodels) (24.2)\n",
      "Requirement already satisfied: python-dateutil>=2.8.2 in /usr/local/lib/python3.11/dist-packages (from pandas!=2.1.0,>=1.4->statsmodels) (2.8.2)\n",
      "Requirement already satisfied: pytz>=2020.1 in /usr/local/lib/python3.11/dist-packages (from pandas!=2.1.0,>=1.4->statsmodels) (2025.2)\n",
      "Requirement already satisfied: tzdata>=2022.7 in /usr/local/lib/python3.11/dist-packages (from pandas!=2.1.0,>=1.4->statsmodels) (2025.2)\n",
      "Requirement already satisfied: six>=1.5 in /usr/local/lib/python3.11/dist-packages (from python-dateutil>=2.8.2->pandas!=2.1.0,>=1.4->statsmodels) (1.17.0)\n"
     ]
    }
   ],
   "source": [
    "!pip install statsmodels --upgrade\n",
    "import statsmodels.formula.api as sm"
   ]
  },
  {
   "cell_type": "code",
   "execution_count": null,
   "metadata": {
    "id": "F6T5ZwjEsfaw"
   },
   "outputs": [],
   "source": [
    "import pandas as pd\n",
    "from sklearn.model_selection import train_test_split\n",
    "from sklearn.metrics import accuracy_score, classification_report\n",
    "from sklearn.preprocessing import OrdinalEncoder, OneHotEncoder\n",
    "from sklearn.metrics import confusion_matrix, accuracy_score\n",
    "from sklearn.metrics import mean_absolute_error, mean_squared_error\n",
    "import numpy as np\n",
    "import pandas as pd\n",
    "import scipy.stats as stats\n",
    "from statsmodels.miscmodels.ordinal_model import OrderedModel"
   ]
  },
  {
   "cell_type": "code",
   "execution_count": null,
   "metadata": {
    "id": "ws51lHRhsjn4"
   },
   "outputs": [],
   "source": [
    "X = data[['Day ', 'Time ', 'Place', 'Access ', 'Crash Manner', 'Intersection Relationship', 'Intersection Location', 'Functional Class', 'Light Conditions ', 'Weather C', 'Roadway Condition', 'Roadway Curvature']]\n",
    "y = data['Crash Severity']\n",
    "\n",
    "X_train, X_test, y_train, y_test = train_test_split(X, y, test_size=0.35, random_state=42)"
   ]
  },
  {
   "cell_type": "code",
   "execution_count": null,
   "metadata": {
    "id": "dL3RI0ZpsqIP"
   },
   "outputs": [],
   "source": [
    "# Create a OneHotEncoder object\n",
    "encoder = OneHotEncoder(sparse_output=False, handle_unknown='ignore') # sparse=False for dense output"
   ]
  },
  {
   "cell_type": "code",
   "execution_count": null,
   "metadata": {
    "id": "_AzVZLLDstnP"
   },
   "outputs": [],
   "source": [
    "# Fit the encoder on the training data and transform both training and testing data\n",
    "X_encoded = encoder.fit_transform(X)\n",
    "X_train_encoded = encoder.fit_transform(X_train)\n",
    "X_test_encoded = encoder.transform(X_test)"
   ]
  },
  {
   "cell_type": "code",
   "execution_count": null,
   "metadata": {
    "id": "h-LrOT9osyTA"
   },
   "outputs": [],
   "source": [
    "ordinal_encoder = OrdinalEncoder(categories=[['Property Damage Only', 'Possible Injury', 'Non-Incapacitating Injury', 'Suspected Serious Injury', 'Fatal Injury']])\n",
    "y_train_encoded = ordinal_encoder.fit_transform(y_train.values.reshape(-1, 1)).ravel()\n",
    "y_test_encoded = ordinal_encoder.transform(y_test.values.reshape(-1, 1)).ravel()\n",
    "y_encoded = ordinal_encoder.fit_transform(y.values.reshape(-1, 1)).ravel()"
   ]
  },
  {
   "cell_type": "code",
   "execution_count": null,
   "metadata": {
    "colab": {
     "base_uri": "https://localhost:8080/"
    },
    "id": "cJKfOvhbs4Ov",
    "outputId": "971e590f-5786-460d-912c-eb88a2366f55"
   },
   "outputs": [
    {
     "name": "stdout",
     "output_type": "stream",
     "text": [
      "(7145, 38)\n",
      "<class 'numpy.ndarray'>\n"
     ]
    }
   ],
   "source": [
    "print(X_encoded.shape)\n",
    "print(type(X_encoded))"
   ]
  },
  {
   "cell_type": "code",
   "execution_count": null,
   "metadata": {
    "colab": {
     "base_uri": "https://localhost:8080/"
    },
    "id": "iFct9Rnhs6nY",
    "outputId": "b28ce49e-1ce4-4670-e285-984bcac22c53"
   },
   "outputs": [
    {
     "data": {
      "text/plain": [
       "array([[1., 0., 1., ..., 0., 0., 1.],\n",
       "       [1., 0., 1., ..., 0., 0., 1.],\n",
       "       [0., 1., 1., ..., 0., 1., 0.],\n",
       "       ...,\n",
       "       [0., 1., 1., ..., 0., 0., 1.],\n",
       "       [1., 0., 1., ..., 0., 1., 0.],\n",
       "       [0., 1., 1., ..., 0., 0., 1.]])"
      ]
     },
     "execution_count": 21,
     "metadata": {},
     "output_type": "execute_result"
    }
   ],
   "source": [
    "X_encoded"
   ]
  },
  {
   "cell_type": "code",
   "execution_count": null,
   "metadata": {
    "colab": {
     "base_uri": "https://localhost:8080/"
    },
    "id": "Z0JYN33qtcKP",
    "outputId": "6ecfde33-d520-4294-826b-dccb2d600e44"
   },
   "outputs": [
    {
     "data": {
      "text/plain": [
       "(7145,)"
      ]
     },
     "execution_count": 29,
     "metadata": {},
     "output_type": "execute_result"
    }
   ],
   "source": [
    "y_encoded.shape"
   ]
  },
  {
   "cell_type": "code",
   "execution_count": null,
   "metadata": {
    "colab": {
     "base_uri": "https://localhost:8080/"
    },
    "id": "d79PGCjgs--v",
    "outputId": "73757829-da96-4350-e4d4-4a3d6c7fd8f0"
   },
   "outputs": [
    {
     "data": {
      "text/plain": [
       "array([1., 0., 0., ..., 4., 4., 4.])"
      ]
     },
     "execution_count": 26,
     "metadata": {},
     "output_type": "execute_result"
    }
   ],
   "source": [
    "y_encoded"
   ]
  },
  {
   "cell_type": "code",
   "execution_count": null,
   "metadata": {
    "id": "7Llk7fSXtxVu"
   },
   "outputs": [],
   "source": [
    "# Check for constant columns in X_train_encoded\n",
    "constant_cols = [col for col in range(X_train_encoded.shape[1]) if np.all(X_train_encoded[:, col] == X_train_encoded[0, col])]\n",
    "\n",
    "# Drop constant columns from X_train_encoded and X_test_encoded\n",
    "X_train_encoded = np.delete(X_train_encoded, constant_cols, axis=1)\n",
    "X_test_encoded = np.delete(X_test_encoded, constant_cols, axis=1)"
   ]
  },
  {
   "cell_type": "code",
   "execution_count": null,
   "metadata": {
    "id": "89y3idzKuI_d"
   },
   "outputs": [],
   "source": [
    "# Create a OneHotEncoder object\n",
    "encoder = OneHotEncoder(sparse_output=False, handle_unknown='ignore', drop='first') # sparse=False for dense output, drop='first' to drop one category per feature\n",
    "\n",
    "# Fit the encoder on the training data and transform both training and testing data\n",
    "X_train_encoded = encoder.fit_transform(X_train)\n",
    "X_test_encoded = encoder.transform(X_test)\n",
    "\n",
    "# Check for constant columns in X_train_encoded and drop\n",
    "constant_cols = [col for col in range(X_train_encoded.shape[1]) if np.all(X_train_encoded[:, col] == X_train_encoded[0, col])]\n",
    "X_train_encoded = np.delete(X_train_encoded, constant_cols, axis=1)\n",
    "X_test_encoded = np.delete(X_test_encoded, constant_cols, axis=1)"
   ]
  },
  {
   "cell_type": "markdown",
   "metadata": {
    "id": "Efuev_QlzMhc"
   },
   "source": [
    "LOGIT"
   ]
  },
  {
   "cell_type": "code",
   "execution_count": null,
   "metadata": {
    "id": "NDci0b5DtMpv"
   },
   "outputs": [],
   "source": [
    "# Create and fit the OrderedModel\n",
    "mod_log_logit = OrderedModel(y_train_encoded, X_train_encoded, distr='logit')\n",
    "res_log_logit = mod_log_logit.fit(method='bfgs', disp=False)"
   ]
  },
  {
   "cell_type": "markdown",
   "metadata": {
    "id": "JoPnMsjnwUPh"
   },
   "source": [
    "MODEL EVALUATION"
   ]
  },
  {
   "cell_type": "code",
   "execution_count": null,
   "metadata": {
    "id": "fTh3-2aWF-_Y"
   },
   "outputs": [],
   "source": [
    "# Get feature names after one-hot encoding\n",
    "feature_names = encoder.get_feature_names_out(X_train.columns)\n",
    "\n",
    "# Create DataFrames for encoded data with consistent columns\n",
    "X_train_encoded_df = pd.DataFrame(X_train_encoded, columns=feature_names, index=X_train.index)\n",
    "X_test_encoded_df = pd.DataFrame(X_test_encoded, columns=feature_names, index=X_test.index)\n",
    "\n",
    "# Align columns, adding missing columns with 0 values\n",
    "X_train_encoded_aligned, X_test_encoded_aligned = X_train_encoded_df.align(X_test_encoded_df, join='left', fill_value=0)\n",
    "\n",
    "# Convert back to NumPy arrays\n",
    "X_train_encoded_aligned = X_train_encoded_aligned.to_numpy()\n",
    "X_test_encoded_aligned = X_test_encoded_aligned.to_numpy()\n",
    "\n",
    "#Check and drop constant cols - Apply to both train and test with the same mask.\n",
    "constant_cols_mask = np.all(X_train_encoded_aligned == X_train_encoded_aligned[0, :], axis=0)\n",
    "X_train_encoded_aligned = X_train_encoded_aligned[:X_train.shape[0], :]\n",
    "X_test_encoded_aligned = X_test_encoded_aligned[:X_test.shape[0], :]"
   ]
  },
  {
   "cell_type": "code",
   "execution_count": null,
   "metadata": {
    "colab": {
     "base_uri": "https://localhost:8080/"
    },
    "id": "ng3wsTGTGDDY",
    "outputId": "4c5cd7a7-1667-4770-a84f-3b1309768662"
   },
   "outputs": [
    {
     "name": "stdout",
     "output_type": "stream",
     "text": [
      "Train Accuracy: 0.3576\n",
      "Test Accuracy: 0.2638\n",
      "[ 0.04800629 -0.0126628  -0.46131222  0.18235019  0.72034209 -0.53265368\n",
      " -0.29843902 -0.80922792 -0.1436923   0.13426727 -0.13541007  0.16930453\n",
      " -0.27530964 -0.22062759 -0.05003798 -0.39983036 -0.36633727  0.0616479\n",
      "  0.07685791 -0.33492343  0.15046551  0.1938716  -0.25836941 -0.56843939\n",
      " -0.35747765 -0.14781596 -1.74110676 -0.63497037  0.26004037  0.74685145]\n"
     ]
    }
   ],
   "source": [
    "# Evaluate model\n",
    "model = res_log_logit\n",
    "y_train_pred = model.predict(X_train_encoded_aligned)\n",
    "y_test_pred = model.predict(X_test_encoded_aligned)\n",
    "\n",
    "# Convert predicted probabilities to class labels\n",
    "y_train_pred_class = np.argmax(y_train_pred, axis=1)\n",
    "y_test_pred_class = np.argmax(y_test_pred, axis=1)\n",
    "\n",
    "y_test_encoded_aligned = ordinal_encoder.transform(y_test.values.reshape(-1, 1)).ravel()\n",
    "\n",
    "# Calculate accuracy\n",
    "train_accuracy = accuracy_score(y_train_encoded, y_train_pred_class)\n",
    "test_accuracy = accuracy_score(y_test_encoded_aligned, y_test_pred_class)\n",
    "\n",
    "print(f\"Train Accuracy: {train_accuracy:.4f}\")\n",
    "print(f\"Test Accuracy: {test_accuracy:.4f}\")\n",
    "print(res_log_logit.params)"
   ]
  },
  {
   "cell_type": "code",
   "execution_count": null,
   "metadata": {
    "colab": {
     "base_uri": "https://localhost:8080/"
    },
    "id": "lAeU-Sb1vdqS",
    "outputId": "e52d8d6f-d406-443f-8b8d-0d019409639e"
   },
   "outputs": [
    {
     "name": "stdout",
     "output_type": "stream",
     "text": [
      "Mean Absolute Error: 1.1156\n",
      "Kendall's Tau: 0.2229\n",
      "Quadratic Weighted Kappa: 0.2609\n"
     ]
    }
   ],
   "source": [
    "#performance metrics\n",
    "from sklearn.metrics import mean_absolute_error, cohen_kappa_score\n",
    "from scipy.stats import kendalltau\n",
    "\n",
    "y_true = y_encoded\n",
    "X_encoded = encoder.transform(X)\n",
    "y_pred = model.predict(X_encoded)\n",
    "y_pred_class = np.argmax(y_pred, axis=1)\n",
    "# Calculate metrics\n",
    "mae = mean_absolute_error(y_true, y_pred_class)\n",
    "tau, _ = kendalltau(y_true, y_pred_class)\n",
    "qwk = cohen_kappa_score(y_true, y_pred_class, weights='quadratic')\n",
    "\n",
    "print(f\"Mean Absolute Error: {mae:.4f}\")\n",
    "print(f\"Kendall's Tau: {tau:.4f}\")\n",
    "print(f\"Quadratic Weighted Kappa: {qwk:.4f}\")"
   ]
  },
  {
   "cell_type": "code",
   "execution_count": null,
   "metadata": {
    "colab": {
     "base_uri": "https://localhost:8080/"
    },
    "id": "7cYE57KUwSQR",
    "outputId": "3fa41c56-2dd9-446a-94cd-f4a66f1332bd"
   },
   "outputs": [
    {
     "name": "stdout",
     "output_type": "stream",
     "text": [
      "Cross-validation scores: [np.float64(0.24295573077340568), np.float64(0.20335780522094174), np.float64(0.21199838847346275), np.float64(0.21686278938203038), np.float64(0.2091695916685394)]\n",
      "Mean score: 0.2169 (+/- 0.0275)\n"
     ]
    }
   ],
   "source": [
    "#cross validation\n",
    "from sklearn.model_selection import StratifiedKFold, cross_val_score\n",
    "from sklearn.metrics import make_scorer, mean_absolute_error, cohen_kappa_score\n",
    "from scipy.stats import kendalltau\n",
    "\n",
    "# Define a custom scorer for ordinal regression\n",
    "def ordinal_scorer(y_true, y_pred):\n",
    "    mae = mean_absolute_error(y_true, y_pred)\n",
    "    tau, _ = kendalltau(y_true, y_pred)\n",
    "    qwk = cohen_kappa_score(y_true, y_pred, weights='quadratic')\n",
    "    # Avoid division by zero if mae is 0\n",
    "    return (tau + qwk) / 2 if mae == 0 else (1 / mae) * (tau + qwk) / 2\n",
    "\n",
    "# Perform cross-validation\n",
    "cv = StratifiedKFold(n_splits=5, shuffle=True, random_state=42)\n",
    "scores = []\n",
    "\n",
    "for train_index, test_index in cv.split(X, y):\n",
    "    X_train, X_test = X.iloc[train_index], X.iloc[test_index]\n",
    "    y_train, y_test = y.iloc[train_index], y.iloc[test_index]\n",
    "\n",
    "    # Fit the encoder on the training data and transform both training and testing data for this fold\n",
    "    X_train_encoded = encoder.fit_transform(X_train)\n",
    "    X_test_encoded = encoder.transform(X_test)\n",
    "\n",
    "\n",
    "    # Predict and evaluate\n",
    "    y_pred = res_log_logit.predict(X_test_encoded)\n",
    "    y_pred_class = np.argmax(y_pred, axis=1)\n",
    "    score = ordinal_scorer(ordinal_encoder.transform(y_test.values.reshape(-1, 1)).ravel(), y_pred_class)\n",
    "    scores.append(score)\n",
    "\n",
    "print(f\"Cross-validation scores: {scores}\")\n",
    "print(f\"Mean score: {np.mean(scores):.4f} (+/- {np.std(scores) * 2:.4f})\")"
   ]
  },
  {
   "cell_type": "code",
   "execution_count": null,
   "metadata": {
    "colab": {
     "base_uri": "https://localhost:8080/"
    },
    "id": "WdTHViT3yYdV",
    "outputId": "948853d0-730d-45d2-9795-a22ca46894d7"
   },
   "outputs": [
    {
     "name": "stdout",
     "output_type": "stream",
     "text": [
      "Day : 0.0480\n",
      "Time : -0.0127\n",
      "Place: -0.4613\n",
      "Access : 0.1824\n",
      "Crash Manner: 0.7203\n",
      "Intersection Relationship: -0.5327\n",
      "Intersection Location: -0.2984\n",
      "Functional Class: -0.8092\n",
      "Light Conditions : -0.1437\n",
      "Weather C: 0.1343\n",
      "Roadway Condition: -0.1354\n",
      "Roadway Curvature: 0.1693\n",
      "Cut Point 1: -0.2753\n",
      "Cut Point 2: -0.2206\n",
      "Cut Point 3: -0.0500\n",
      "Cut Point 4: -0.3998\n",
      "Cut Point 5: -0.3663\n",
      "Cut Point 6: 0.0616\n",
      "Cut Point 7: 0.0769\n",
      "Cut Point 8: -0.3349\n",
      "Cut Point 9: 0.1505\n",
      "Cut Point 10: 0.1939\n",
      "Cut Point 11: -0.2584\n",
      "Cut Point 12: -0.5684\n",
      "Cut Point 13: -0.3575\n",
      "Cut Point 14: -0.1478\n",
      "Cut Point 15: -1.7411\n",
      "Cut Point 16: -0.6350\n",
      "Cut Point 17: 0.2600\n",
      "Cut Point 18: 0.7469\n"
     ]
    }
   ],
   "source": [
    "# Print coefficients and cut points\n",
    "for i, param in enumerate(model.params):\n",
    "    if i < len(X.columns):\n",
    "        print(f\"{X.columns[i]}: {param:.4f}\")  # Print coefficients\n",
    "    else:\n",
    "        print(f\"Cut Point {i - len(X.columns) + 1}: {param:.4f}\")  # Print cut points"
   ]
  },
  {
   "cell_type": "markdown",
   "metadata": {
    "id": "9Bv7dfKezFJs"
   },
   "source": [
    "PROBIT"
   ]
  },
  {
   "cell_type": "code",
   "execution_count": null,
   "metadata": {
    "id": "5YOlsZpIzacz"
   },
   "outputs": [],
   "source": [
    "encoder = OneHotEncoder(sparse_output=False, handle_unknown='ignore', drop='first')\n",
    "X_train_encoded = encoder.fit_transform(X_train)\n",
    "X_test_encoded = encoder.transform(X_test)\n",
    "\n",
    "#Check and drop constant cols\n",
    "constant_cols = [col for col in range(X_train_encoded.shape[1]) if np.all(X_train_encoded[:, col] == X_train_encoded[0, col])]\n",
    "X_train_encoded = np.delete(X_train_encoded, constant_cols, axis=1)\n",
    "X_test_encoded = np.delete(X_test_encoded, constant_cols, axis=1)\n",
    "\n",
    "ordinal_encoder = OrdinalEncoder(categories=[['Property Damage Only', 'Possible Injury', 'Non-Incapacitating Injury', 'Suspected Serious Injury', 'Fatal Injury']])\n",
    "y_train_encoded = ordinal_encoder.fit_transform(y_train.values.reshape(-1, 1)).ravel()"
   ]
  },
  {
   "cell_type": "code",
   "execution_count": null,
   "metadata": {
    "id": "W8Z71Xg8zE0r"
   },
   "outputs": [],
   "source": [
    "# Create and fit the OrderedModel (using the encoded data)\n",
    "mod_log_probit = OrderedModel(y_train_encoded, X_train_encoded_aligned, distr='probit')\n",
    "res_log_probit = mod_log_probit.fit(method='bfgs', disp=False)"
   ]
  },
  {
   "cell_type": "code",
   "execution_count": null,
   "metadata": {
    "id": "_FyxioLH5O-Q"
   },
   "outputs": [],
   "source": [
    "# Get feature names after one-hot encoding\n",
    "feature_names = encoder.get_feature_names_out(X_train.columns)\n",
    "\n",
    "# Create DataFrames for encoded data with consistent columns\n",
    "X_train_encoded_df = pd.DataFrame(X_train_encoded, columns=feature_names, index=X_train.index)\n",
    "X_test_encoded_df = pd.DataFrame(X_test_encoded, columns=feature_names, index=X_test.index)\n",
    "\n",
    "# Align columns, adding missing columns with 0 values\n",
    "X_train_encoded_aligned, X_test_encoded_aligned = X_train_encoded_df.align(X_test_encoded_df, join='left', fill_value=0)\n",
    "\n",
    "# Convert back to NumPy arrays\n",
    "X_train_encoded_aligned = X_train_encoded_aligned.to_numpy()\n",
    "X_test_encoded_aligned = X_test_encoded_aligned.to_numpy()\n",
    "\n",
    "#Check and drop constant cols - Apply to both train and test with the same mask.\n",
    "constant_cols_mask = np.all(X_train_encoded_aligned == X_train_encoded_aligned[0, :], axis=0)\n",
    "X_train_encoded_aligned = X_train_encoded_aligned[:X_train.shape[0], :]\n",
    "X_test_encoded_aligned = X_test_encoded_aligned[:X_test.shape[0], :]"
   ]
  },
  {
   "cell_type": "code",
   "execution_count": null,
   "metadata": {
    "colab": {
     "base_uri": "https://localhost:8080/"
    },
    "id": "HIHZfWwJ4qzJ",
    "outputId": "d21162fc-942b-4baa-92d3-f8566bb4d722"
   },
   "outputs": [
    {
     "name": "stdout",
     "output_type": "stream",
     "text": [
      "Train Accuracy: 0.3564\n",
      "Test Accuracy: 0.2638\n",
      "[ 0.0301347  -0.01065345 -0.26905786  0.11970339  0.40802118 -0.35815776\n",
      " -0.19093872 -0.48219981 -0.08687288  0.06299489 -0.09393262  0.09798248\n",
      " -0.19187074 -0.15234955 -0.06166559 -0.26859095 -0.26152576  0.00755316\n",
      "  0.03344503 -0.20536795  0.09344605  0.13873091 -0.05966233 -0.25612911\n",
      " -0.21772815 -0.08972326 -1.08706563 -1.14258353 -0.22883796  0.14770579]\n"
     ]
    }
   ],
   "source": [
    "# Evaluate model\n",
    "model = res_log_probit\n",
    "y_train_pred = model.predict(X_train_encoded_aligned)\n",
    "y_test_pred = model.predict(X_test_encoded_aligned)\n",
    "\n",
    "# Convert predicted probabilities to class labels\n",
    "y_train_pred_class = np.argmax(y_train_pred, axis=1)\n",
    "y_test_pred_class = np.argmax(y_test_pred, axis=1)\n",
    "\n",
    "y_test_encoded_aligned = ordinal_encoder.transform(y_test.values.reshape(-1, 1)).ravel()\n",
    "\n",
    "# Calculate accuracy\n",
    "train_accuracy = accuracy_score(y_train_encoded, y_train_pred_class)\n",
    "test_accuracy = accuracy_score(y_test_encoded_aligned, y_test_pred_class)\n",
    "\n",
    "print(f\"Train Accuracy: {train_accuracy:.4f}\")\n",
    "print(f\"Test Accuracy: {test_accuracy:.4f}\")\n",
    "print(res_log_probit.params)"
   ]
  },
  {
   "cell_type": "code",
   "execution_count": null,
   "metadata": {
    "colab": {
     "base_uri": "https://localhost:8080/"
    },
    "id": "UhvZLis_7Xwk",
    "outputId": "2ea6c232-05cb-4e5b-e931-1eee90b2ea46"
   },
   "outputs": [
    {
     "name": "stdout",
     "output_type": "stream",
     "text": [
      "Mean Absolute Error: 1.1213\n",
      "Kendall's Tau: 0.2220\n",
      "Quadratic Weighted Kappa: 0.2584\n"
     ]
    }
   ],
   "source": [
    "#performance metrics\n",
    "from sklearn.metrics import mean_absolute_error, cohen_kappa_score\n",
    "from scipy.stats import kendalltau\n",
    "\n",
    "y_true = y_encoded\n",
    "X_encoded = encoder.transform(X)\n",
    "y_pred = model.predict(X_encoded)\n",
    "y_pred_class = np.argmax(y_pred, axis=1)\n",
    "# Calculate metrics\n",
    "mae = mean_absolute_error(y_true, y_pred_class)\n",
    "tau, _ = kendalltau(y_true, y_pred_class)\n",
    "qwk = cohen_kappa_score(y_true, y_pred_class, weights='quadratic')\n",
    "\n",
    "print(f\"Mean Absolute Error: {mae:.4f}\")\n",
    "print(f\"Kendall's Tau: {tau:.4f}\")\n",
    "print(f\"Quadratic Weighted Kappa: {qwk:.4f}\")"
   ]
  },
  {
   "cell_type": "code",
   "execution_count": null,
   "metadata": {
    "colab": {
     "base_uri": "https://localhost:8080/"
    },
    "id": "XdE-JUjJ7czU",
    "outputId": "feccb371-9ac7-4546-d505-5d15b7110cd1"
   },
   "outputs": [
    {
     "name": "stdout",
     "output_type": "stream",
     "text": [
      "Cross-validation scores: [np.float64(0.24142455055610623), np.float64(0.20196693901909554), np.float64(0.20349808404571945), np.float64(0.22306673921510906), np.float64(0.20134516564301697)]\n",
      "Mean score: 0.2143 (+/- 0.0316)\n"
     ]
    }
   ],
   "source": [
    "#cross validation\n",
    "from sklearn.model_selection import StratifiedKFold, cross_val_score\n",
    "from sklearn.metrics import make_scorer, mean_absolute_error, cohen_kappa_score\n",
    "from scipy.stats import kendalltau\n",
    "\n",
    "# Define a custom scorer for ordinal regression\n",
    "def ordinal_scorer(y_true, y_pred):\n",
    "    mae = mean_absolute_error(y_true, y_pred)\n",
    "    tau, _ = kendalltau(y_true, y_pred)\n",
    "    qwk = cohen_kappa_score(y_true, y_pred, weights='quadratic')\n",
    "    # Avoid division by zero if mae is 0\n",
    "    return (tau + qwk) / 2 if mae == 0 else (1 / mae) * (tau + qwk) / 2\n",
    "\n",
    "# Perform cross-validation\n",
    "cv = StratifiedKFold(n_splits=5, shuffle=True, random_state=42)\n",
    "scores = []\n",
    "\n",
    "for train_index, test_index in cv.split(X, y):\n",
    "    X_train, X_test = X.iloc[train_index], X.iloc[test_index]\n",
    "    y_train, y_test = y.iloc[train_index], y.iloc[test_index]\n",
    "\n",
    "    # Fit the encoder on the training data and transform both training and testing data for this fold\n",
    "    X_train_encoded = encoder.fit_transform(X_train)\n",
    "    X_test_encoded = encoder.transform(X_test)\n",
    "\n",
    "\n",
    "    # Predict and evaluate\n",
    "    y_pred = res_log_probit.predict(X_test_encoded)\n",
    "    y_pred_class = np.argmax(y_pred, axis=1)\n",
    "    score = ordinal_scorer(ordinal_encoder.transform(y_test.values.reshape(-1, 1)).ravel(), y_pred_class)\n",
    "    scores.append(score)\n",
    "\n",
    "print(f\"Cross-validation scores: {scores}\")\n",
    "print(f\"Mean score: {np.mean(scores):.4f} (+/- {np.std(scores) * 2:.4f})\")"
   ]
  },
  {
   "cell_type": "code",
   "execution_count": null,
   "metadata": {
    "colab": {
     "base_uri": "https://localhost:8080/"
    },
    "id": "PLmBlLCW7iOs",
    "outputId": "19c36e50-f900-4736-af8e-40aee62c8faf"
   },
   "outputs": [
    {
     "name": "stdout",
     "output_type": "stream",
     "text": [
      "Day : 0.0301\n",
      "Time : -0.0107\n",
      "Place: -0.2691\n",
      "Access : 0.1197\n",
      "Crash Manner: 0.4080\n",
      "Intersection Relationship: -0.3582\n",
      "Intersection Location: -0.1909\n",
      "Functional Class: -0.4822\n",
      "Light Conditions : -0.0869\n",
      "Weather C: 0.0630\n",
      "Roadway Condition: -0.0939\n",
      "Roadway Curvature: 0.0980\n",
      "Cut Point 1: -0.1919\n",
      "Cut Point 2: -0.1523\n",
      "Cut Point 3: -0.0617\n",
      "Cut Point 4: -0.2686\n",
      "Cut Point 5: -0.2615\n",
      "Cut Point 6: 0.0076\n",
      "Cut Point 7: 0.0334\n",
      "Cut Point 8: -0.2054\n",
      "Cut Point 9: 0.0934\n",
      "Cut Point 10: 0.1387\n",
      "Cut Point 11: -0.0597\n",
      "Cut Point 12: -0.2561\n",
      "Cut Point 13: -0.2177\n",
      "Cut Point 14: -0.0897\n",
      "Cut Point 15: -1.0871\n",
      "Cut Point 16: -1.1426\n",
      "Cut Point 17: -0.2288\n",
      "Cut Point 18: 0.1477\n"
     ]
    }
   ],
   "source": [
    "# Print coefficients and cut points\n",
    "for i, param in enumerate(model.params):\n",
    "    if i < len(X.columns):\n",
    "        print(f\"{X.columns[i]}: {param:.4f}\")  # Print coefficients\n",
    "    else:\n",
    "        print(f\"Cut Point {i - len(X.columns) + 1}: {param:.4f}\")  # Print cut points"
   ]
  }
 ],
 "metadata": {
  "colab": {
   "provenance": []
  },
  "kernelspec": {
   "display_name": "Python [conda env:base] *",
   "language": "python",
   "name": "conda-base-py"
  },
  "language_info": {
   "codemirror_mode": {
    "name": "ipython",
    "version": 3
   },
   "file_extension": ".py",
   "mimetype": "text/x-python",
   "name": "python",
   "nbconvert_exporter": "python",
   "pygments_lexer": "ipython3",
   "version": "3.12.7"
  }
 },
 "nbformat": 4,
 "nbformat_minor": 4
}
